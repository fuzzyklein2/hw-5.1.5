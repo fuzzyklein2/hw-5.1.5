{
 "cells": [
  {
   "cell_type": "code",
   "execution_count": 3,
   "id": "33fc2703-e3a4-43e5-b102-eaf8ed26a4bb",
   "metadata": {},
   "outputs": [],
   "source": [
    "import hashlib\n",
    "import os"
   ]
  },
  {
   "cell_type": "code",
   "execution_count": null,
   "id": "610bc6f6-fd2e-4542-86f1-01b7b9e6d60b",
   "metadata": {},
   "outputs": [],
   "source": [
    "def sha256_file(filepath):\n",
    "    sha256 = hashlib.sha256()\n",
    "    with open(filepath, \"rb\") as f:\n",
    "        for chunk in iter(lambda: f.read(8192), b\"\"):\n",
    "            sha256.update(chunk)\n",
    "    return sha256.hexdigest()"
   ]
  },
  {
   "cell_type": "code",
   "execution_count": 4,
   "id": "44d571bf-794b-4e7d-ab7c-6d5caaacdd1a",
   "metadata": {},
   "outputs": [],
   "source": [
    "os.chdir(\"/home/fuzzy/Packages\")"
   ]
  },
  {
   "cell_type": "code",
   "execution_count": 5,
   "id": "930e04c0-33f0-47c2-9ef3-3718815ff661",
   "metadata": {},
   "outputs": [
    {
     "data": {
      "text/plain": [
       "['reveal.js-master.zip',\n",
       " 'code_1.101.0-1749655245_amd64.deb',\n",
       " 'boost_1_89_0.tar.gz',\n",
       " 'Python-3.13.2',\n",
       " 'webextensions-examples',\n",
       " 'Python-3.13.2.tgz',\n",
       " 'd3-7.3.0.tgz',\n",
       " 'mathquill-0.10.1.zip']"
      ]
     },
     "execution_count": 5,
     "metadata": {},
     "output_type": "execute_result"
    }
   ],
   "source": [
    "os.listdir()"
   ]
  },
  {
   "cell_type": "code",
   "execution_count": 6,
   "id": "7581df5d-5665-4ce2-9bb4-a1a59f966008",
   "metadata": {},
   "outputs": [
    {
     "name": "stdout",
     "output_type": "stream",
     "text": [
      "SHA256(boost_1_89_0.tar.gz) = 9de758db755e8330a01d995b0a24d09798048400ac25c03fc5ea9be364b13c93\n"
     ]
    }
   ],
   "source": [
    "# Example usage:\n",
    "filename = 'boost_1_89_0.tar.gz'\n",
    "print(f\"SHA256({filename}) = {sha256_file(filename)}\")"
   ]
  },
  {
   "cell_type": "code",
   "execution_count": 7,
   "id": "68587a75-c181-41fc-83e3-96a831d3a163",
   "metadata": {},
   "outputs": [],
   "source": [
    "HASH_FROM_BOOST = '9de758db755e8330a01d995b0a24d09798048400ac25c03fc5ea9be364b13c93'"
   ]
  },
  {
   "cell_type": "code",
   "execution_count": null,
   "id": "1352ae2b-a5e7-4fef-8004-578bb07e5987",
   "metadata": {},
   "outputs": [],
   "source": []
  }
 ],
 "metadata": {
  "kernelspec": {
   "display_name": "Python 3 (ipykernel)",
   "language": "python",
   "name": "python3"
  },
  "language_info": {
   "codemirror_mode": {
    "name": "ipython",
    "version": 3
   },
   "file_extension": ".py",
   "mimetype": "text/x-python",
   "name": "python",
   "nbconvert_exporter": "python",
   "pygments_lexer": "ipython3",
   "version": "3.13.2"
  }
 },
 "nbformat": 4,
 "nbformat_minor": 5
}
