{
 "cells": [
  {
   "cell_type": "markdown",
   "id": "604a5023-bb6d-4e3f-9c89-8ae77796e50e",
   "metadata": {},
   "source": [
    "# Compile the Program"
   ]
  },
  {
   "cell_type": "code",
   "execution_count": 2,
   "id": "3ca512c1-11db-4404-b78e-af7d0584ef4a",
   "metadata": {},
   "outputs": [],
   "source": [
    "from subprocess import run"
   ]
  },
  {
   "cell_type": "markdown",
   "id": "9cd93e92-2be8-4011-b4c1-a790acee9b82",
   "metadata": {},
   "source": [
    "* Scan the `src` directory.\n",
    "* Compile each file into the `build` or `obj` directory.\n",
    "* Put an executable in the `bin` directory."
   ]
  },
  {
   "cell_type": "code",
   "execution_count": 4,
   "id": "f0f3da21-6074-4c09-94ec-59ab4be7d4da",
   "metadata": {},
   "outputs": [
    {
     "name": "stdout",
     "output_type": "stream",
     "text": [
      "Standard input is piped or redirected\n",
      "Hello, Fuzzy!\n"
     ]
    }
   ],
   "source": [
    "cprocess = run([\"bin/hw\"])"
   ]
  },
  {
   "cell_type": "code",
   "execution_count": 5,
   "id": "cdcd03c4-9c25-4674-b056-69595db31217",
   "metadata": {},
   "outputs": [
    {
     "name": "stdout",
     "output_type": "stream",
     "text": [
      "make: Nothing to be done for 'all'.\n"
     ]
    }
   ],
   "source": [
    "cprocess = run([\"make\"])"
   ]
  },
  {
   "cell_type": "code",
   "execution_count": null,
   "id": "e4a5afcc-1f3d-4ff0-a6b3-ee2d2b86f776",
   "metadata": {},
   "outputs": [],
   "source": []
  }
 ],
 "metadata": {
  "kernelspec": {
   "display_name": "Python 3 (ipykernel)",
   "language": "python",
   "name": "python3"
  },
  "language_info": {
   "codemirror_mode": {
    "name": "ipython",
    "version": 3
   },
   "file_extension": ".py",
   "mimetype": "text/x-python",
   "name": "python",
   "nbconvert_exporter": "python",
   "pygments_lexer": "ipython3",
   "version": "3.13.2"
  }
 },
 "nbformat": 4,
 "nbformat_minor": 5
}
