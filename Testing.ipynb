{
 "cells": [
  {
   "cell_type": "markdown",
   "id": "7cb2b7c1-e192-4e6a-a715-d959bcb5dcfa",
   "metadata": {},
   "source": [
    "# Testing the Program"
   ]
  },
  {
   "cell_type": "code",
   "execution_count": 9,
   "id": "f915a3c2-7ff8-4ae0-b12e-2086ce138810",
   "metadata": {},
   "outputs": [],
   "source": [
    "from subprocess import run"
   ]
  },
  {
   "cell_type": "code",
   "execution_count": 10,
   "id": "fbf4b3c3-0c9c-4377-b1e1-409950d10e6b",
   "metadata": {},
   "outputs": [
    {
     "name": "stdout",
     "output_type": "stream",
     "text": [
      "make: Nothing to be done for 'all'.\n"
     ]
    },
    {
     "data": {
      "text/plain": [
       "CompletedProcess(args=['make'], returncode=0)"
      ]
     },
     "execution_count": 10,
     "metadata": {},
     "output_type": "execute_result"
    }
   ],
   "source": [
    "run([\"make\"])"
   ]
  },
  {
   "cell_type": "code",
   "execution_count": 7,
   "id": "5e13fc19-8c12-4b0e-b0b7-2053b82a1549",
   "metadata": {},
   "outputs": [
    {
     "name": "stdout",
     "output_type": "stream",
     "text": [
      "make: Nothing to be done for 'all'.\n"
     ]
    }
   ],
   "source": [
    "! make"
   ]
  },
  {
   "cell_type": "code",
   "execution_count": 3,
   "id": "48dcbf40-6b65-4fc0-9afa-af214e6449eb",
   "metadata": {},
   "outputs": [
    {
     "name": "stdout",
     "output_type": "stream",
     "text": [
      "rm -rf obj/*.o bin/*\n"
     ]
    }
   ],
   "source": [
    "! make clean"
   ]
  },
  {
   "cell_type": "code",
   "execution_count": 11,
   "id": "b3f609f4-c9bf-4969-a5a4-d381527b0386",
   "metadata": {},
   "outputs": [
    {
     "name": "stdout",
     "output_type": "stream",
     "text": [
      "Standard input is piped or redirected\n",
      "Hello, Fuzzy!\n"
     ]
    },
    {
     "data": {
      "text/plain": [
       "CompletedProcess(args=['bin/hw'], returncode=42)"
      ]
     },
     "execution_count": 11,
     "metadata": {},
     "output_type": "execute_result"
    }
   ],
   "source": [
    "run([\"bin/hw\"])"
   ]
  },
  {
   "cell_type": "code",
   "execution_count": null,
   "id": "723de148-b55d-4bb5-870d-b2d77692215c",
   "metadata": {},
   "outputs": [],
   "source": []
  }
 ],
 "metadata": {
  "kernelspec": {
   "display_name": "Python 3 (ipykernel)",
   "language": "python",
   "name": "python3"
  },
  "language_info": {
   "codemirror_mode": {
    "name": "ipython",
    "version": 3
   },
   "file_extension": ".py",
   "mimetype": "text/x-python",
   "name": "python",
   "nbconvert_exporter": "python",
   "pygments_lexer": "ipython3",
   "version": "3.13.2"
  }
 },
 "nbformat": 4,
 "nbformat_minor": 5
}
