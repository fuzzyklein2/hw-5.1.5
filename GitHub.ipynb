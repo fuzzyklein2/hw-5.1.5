{
 "cells": [
  {
   "cell_type": "markdown",
   "id": "52007531-a6a4-48c5-bcd6-c89e90575a01",
   "metadata": {},
   "source": [
    "# GitHub Tools"
   ]
  },
  {
   "cell_type": "markdown",
   "id": "d54306f4-6d3c-4f0a-a011-338d939b3050",
   "metadata": {},
   "source": [
    "## Publish\n",
    "\n",
    "* Add any relevant files\n",
    "* Commit changes with the following message:"
   ]
  },
  {
   "cell_type": "code",
   "execution_count": 1,
   "id": "4d257877-7b34-4236-bfd3-a5b5a3ea266a",
   "metadata": {},
   "outputs": [],
   "source": [
    "MESSAGE = \"\""
   ]
  },
  {
   "cell_type": "markdown",
   "id": "262a66eb-d7e2-4d96-9d4f-2c32c9598c48",
   "metadata": {},
   "source": [
    "* Push changes to GitHub"
   ]
  },
  {
   "cell_type": "code",
   "execution_count": 2,
   "id": "4f60cc62-d95a-472f-a7d1-9dfc765b2b9c",
   "metadata": {},
   "outputs": [],
   "source": [
    "from subprocess import run"
   ]
  },
  {
   "cell_type": "code",
   "execution_count": 3,
   "id": "f95a1083-7965-45e4-a939-e96d09ea3a98",
   "metadata": {
    "scrolled": true
   },
   "outputs": [
    {
     "name": "stdout",
     "output_type": "stream",
     "text": [
      "Help on function run in module subprocess:\n",
      "\n",
      "run(\n",
      "    *popenargs,\n",
      "    input=None,\n",
      "    capture_output=False,\n",
      "    timeout=None,\n",
      "    check=False,\n",
      "    **kwargs\n",
      ")\n",
      "    Run command with arguments and return a CompletedProcess instance.\n",
      "\n",
      "    The returned instance will have attributes args, returncode, stdout and\n",
      "    stderr. By default, stdout and stderr are not captured, and those attributes\n",
      "    will be None. Pass stdout=PIPE and/or stderr=PIPE in order to capture them,\n",
      "    or pass capture_output=True to capture both.\n",
      "\n",
      "    If check is True and the exit code was non-zero, it raises a\n",
      "    CalledProcessError. The CalledProcessError object will have the return code\n",
      "    in the returncode attribute, and output & stderr attributes if those streams\n",
      "    were captured.\n",
      "\n",
      "    If timeout (seconds) is given and the process takes too long,\n",
      "     a TimeoutExpired exception will be raised.\n",
      "\n",
      "    There is an optional argument \"input\", allowing you to\n",
      "    pass bytes or a string to the subprocess's stdin.  If you use this argument\n",
      "    you may not also use the Popen constructor's \"stdin\" argument, as\n",
      "    it will be used internally.\n",
      "\n",
      "    By default, all communication is in bytes, and therefore any \"input\" should\n",
      "    be bytes, and the stdout and stderr will be bytes. If in text mode, any\n",
      "    \"input\" should be a string, and stdout and stderr will be strings decoded\n",
      "    according to locale encoding, or by \"encoding\" if set. Text mode is\n",
      "    triggered by setting any of text, encoding, errors or universal_newlines.\n",
      "\n",
      "    The other arguments are the same as for the Popen constructor.\n",
      "\n"
     ]
    }
   ],
   "source": [
    "help(run)"
   ]
  },
  {
   "cell_type": "code",
   "execution_count": 6,
   "id": "39dd8f27-3138-46df-9a52-feab7f192c28",
   "metadata": {},
   "outputs": [],
   "source": [
    "cprocess = run([\"bin/hw\"], encoding='utf', capture_output=True)"
   ]
  },
  {
   "cell_type": "code",
   "execution_count": 9,
   "id": "76ed9c5f-f7dc-4320-aaaf-9e965e43d737",
   "metadata": {},
   "outputs": [
    {
     "name": "stdout",
     "output_type": "stream",
     "text": [
      "Standard input is piped or redirected\n",
      "Hello, Fuzzy!\n",
      "\n"
     ]
    }
   ],
   "source": [
    "print(cprocess.stdout)"
   ]
  },
  {
   "cell_type": "code",
   "execution_count": null,
   "id": "498d09c8-427a-4768-b75e-99eb533cb121",
   "metadata": {},
   "outputs": [],
   "source": []
  }
 ],
 "metadata": {
  "kernelspec": {
   "display_name": "Python 3 (ipykernel)",
   "language": "python",
   "name": "python3"
  },
  "language_info": {
   "codemirror_mode": {
    "name": "ipython",
    "version": 3
   },
   "file_extension": ".py",
   "mimetype": "text/x-python",
   "name": "python",
   "nbconvert_exporter": "python",
   "pygments_lexer": "ipython3",
   "version": "3.13.2"
  }
 },
 "nbformat": 4,
 "nbformat_minor": 5
}
